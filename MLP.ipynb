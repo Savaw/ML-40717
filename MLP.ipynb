{
 "cells": [
  {
   "cell_type": "markdown",
   "metadata": {
    "id": "PN9RccQPNI-V"
   },
   "source": [
    "# CE-40717: Machine Learning Final Project "
   ]
  },
  {
   "cell_type": "markdown",
   "metadata": {
    "id": "T--OInSPOxDQ"
   },
   "source": [
    "# MLP"
   ]
  },
  {
   "cell_type": "code",
   "execution_count": 1,
   "metadata": {
    "id": "XYqD5G9wzqe-"
   },
   "outputs": [],
   "source": [
    "import torch\n",
    "from torch import nn\n",
    "from torch.utils.data import Dataset, DataLoader, random_split\n",
    "import torchvision\n",
    "from torchvision import transforms\n",
    "from torch import optim\n",
    "\n",
    "import numpy as np\n",
    "\n",
    "import matplotlib.pyplot as plt"
   ]
  },
  {
   "cell_type": "code",
   "execution_count": 2,
   "metadata": {
    "colab": {
     "base_uri": "https://localhost:8080/"
    },
    "id": "u7RfZHi44hD4",
    "outputId": "a11a0c6f-dcb6-44db-e43e-d9f0d9e29357"
   },
   "outputs": [
    {
     "data": {
      "text/plain": [
       "device(type='cuda')"
      ]
     },
     "execution_count": 2,
     "metadata": {},
     "output_type": "execute_result"
    }
   ],
   "source": [
    "device = torch.device('cuda' if torch.cuda.is_available() else 'cpu')\n",
    "device"
   ]
  },
  {
   "cell_type": "markdown",
   "metadata": {
    "id": "TDPB_KiYkLXU"
   },
   "source": [
    "## Load Dataset"
   ]
  },
  {
   "cell_type": "code",
   "execution_count": 3,
   "metadata": {
    "colab": {
     "base_uri": "https://localhost:8080/",
     "height": 451,
     "referenced_widgets": [
      "bb086f33b5324ef19d28923416437f4f",
      "b16a8505cecf4377b6a2966a6ced371e",
      "c8cb18d9c5f8490a927287df6a883ee3",
      "273944f15a3d41008baf60b68103491a",
      "99bf6a5f945846819abf09725b355717",
      "eae79e1f995f4012a38f82f9e05d902d",
      "e719cd78e2714bec8bf92eb39d816e01",
      "c8605f82fd784ec1bd7741531b2cad1b",
      "1fc57e65015a4918b136fd23ecd978df",
      "1b345e60bc8445b686bbc29bf9fa0181",
      "5fe04a4e7fb54563b79979ca9be4b974",
      "54df9a927b9f4ca680bcdee2b340131e",
      "21714205254944b1aaa3444549ef1b41",
      "7694ff4b1fdb4f4180a1d863daafc4d6",
      "b3a6dba7c4744834b5ce6f85fb990c3d",
      "fdf9b587603c4e7ebd002fbbbb0448f8",
      "c75f686c5b00488e8a3b09904bad5fe1",
      "90b3411096f94aec8c87db8a7eb2495f",
      "0de8728d20654dfa80d9401a8bb7f997",
      "a14090d11946409bb32c8a889bd5c235",
      "f9bf963742744b69b493fa228375db97",
      "73bebfea2fa94598a81eaac82be021b7",
      "e2fac334219f4e55a940f73f94ec32ef",
      "4969c4bc2cc748f5908cfe4c92eba1fc",
      "b26a91ed144844b5984b59461cd69ec1",
      "3f5aa46ebd1345389a9eb36d7c3f89b6",
      "500748b3c83d45b080c33c8f5f8ce2ea",
      "66561d57bcbd4599b4f13e68817d9e09",
      "1db3885568a740cc80d64eaab24567c7",
      "e0a0953cb050437bac3756b69d22c34c",
      "d634b313e16e4d73a5e97f83ce6a3836",
      "186c18b5d6de49de8cf3d6b17c0828b3",
      "e69afe57a14f4c4998f030e929496bda",
      "450d1b9237cb40e9b930237c95af8b97",
      "014000052db04301ba8cbc2ad7ca51d4",
      "97a40cfabcc046b4b0a39c24d1a3e211",
      "7affc0c88e644bcfb484c627007193f8",
      "d7d6f8bcbf9945a28f756384d30c3cd7",
      "f20b4478c8fe4bbcbc71ae34a9e2f4cf",
      "9d86751d2c9c4a2189816f18ec382df9",
      "5ae1b263365c4a8bb8b39089e024da7b",
      "d6660b145eee4ce2872575163e3245a9",
      "c169dacd7ef74ca7bd3037b9bfb596df",
      "d334803b01814e88bf0c96c30ac3c90a"
     ]
    },
    "id": "QwvkLE7F4lQF",
    "outputId": "4e5ca498-917c-4275-b94c-3e4c85441f5b"
   },
   "outputs": [
    {
     "name": "stdout",
     "output_type": "stream",
     "text": [
      "Downloading http://fashion-mnist.s3-website.eu-central-1.amazonaws.com/train-images-idx3-ubyte.gz\n",
      "Downloading http://fashion-mnist.s3-website.eu-central-1.amazonaws.com/train-images-idx3-ubyte.gz to ./data/FashionMNIST/raw/train-images-idx3-ubyte.gz\n"
     ]
    },
    {
     "data": {
      "application/vnd.jupyter.widget-view+json": {
       "model_id": "bb086f33b5324ef19d28923416437f4f",
       "version_major": 2,
       "version_minor": 0
      },
      "text/plain": [
       "  0%|          | 0/26421880 [00:00<?, ?it/s]"
      ]
     },
     "metadata": {},
     "output_type": "display_data"
    },
    {
     "name": "stdout",
     "output_type": "stream",
     "text": [
      "Extracting ./data/FashionMNIST/raw/train-images-idx3-ubyte.gz to ./data/FashionMNIST/raw\n",
      "\n",
      "Downloading http://fashion-mnist.s3-website.eu-central-1.amazonaws.com/train-labels-idx1-ubyte.gz\n",
      "Downloading http://fashion-mnist.s3-website.eu-central-1.amazonaws.com/train-labels-idx1-ubyte.gz to ./data/FashionMNIST/raw/train-labels-idx1-ubyte.gz\n"
     ]
    },
    {
     "data": {
      "application/vnd.jupyter.widget-view+json": {
       "model_id": "54df9a927b9f4ca680bcdee2b340131e",
       "version_major": 2,
       "version_minor": 0
      },
      "text/plain": [
       "  0%|          | 0/29515 [00:00<?, ?it/s]"
      ]
     },
     "metadata": {},
     "output_type": "display_data"
    },
    {
     "name": "stdout",
     "output_type": "stream",
     "text": [
      "Extracting ./data/FashionMNIST/raw/train-labels-idx1-ubyte.gz to ./data/FashionMNIST/raw\n",
      "\n",
      "Downloading http://fashion-mnist.s3-website.eu-central-1.amazonaws.com/t10k-images-idx3-ubyte.gz\n",
      "Downloading http://fashion-mnist.s3-website.eu-central-1.amazonaws.com/t10k-images-idx3-ubyte.gz to ./data/FashionMNIST/raw/t10k-images-idx3-ubyte.gz\n"
     ]
    },
    {
     "data": {
      "application/vnd.jupyter.widget-view+json": {
       "model_id": "e2fac334219f4e55a940f73f94ec32ef",
       "version_major": 2,
       "version_minor": 0
      },
      "text/plain": [
       "  0%|          | 0/4422102 [00:00<?, ?it/s]"
      ]
     },
     "metadata": {},
     "output_type": "display_data"
    },
    {
     "name": "stdout",
     "output_type": "stream",
     "text": [
      "Extracting ./data/FashionMNIST/raw/t10k-images-idx3-ubyte.gz to ./data/FashionMNIST/raw\n",
      "\n",
      "Downloading http://fashion-mnist.s3-website.eu-central-1.amazonaws.com/t10k-labels-idx1-ubyte.gz\n",
      "Downloading http://fashion-mnist.s3-website.eu-central-1.amazonaws.com/t10k-labels-idx1-ubyte.gz to ./data/FashionMNIST/raw/t10k-labels-idx1-ubyte.gz\n"
     ]
    },
    {
     "data": {
      "application/vnd.jupyter.widget-view+json": {
       "model_id": "450d1b9237cb40e9b930237c95af8b97",
       "version_major": 2,
       "version_minor": 0
      },
      "text/plain": [
       "  0%|          | 0/5148 [00:00<?, ?it/s]"
      ]
     },
     "metadata": {},
     "output_type": "display_data"
    },
    {
     "name": "stdout",
     "output_type": "stream",
     "text": [
      "Extracting ./data/FashionMNIST/raw/t10k-labels-idx1-ubyte.gz to ./data/FashionMNIST/raw\n",
      "\n"
     ]
    }
   ],
   "source": [
    "# Tensorize and Normalize\n",
    "transform = transforms.Compose([\n",
    "    transforms.ToTensor(),\n",
    "    transforms.Normalize(mean=(0.5,), std=(0.5,))])\n",
    "\n",
    "# Load Train split\n",
    "train_val_data = torchvision.datasets.FashionMNIST(\n",
    "    root=\"./data\", \n",
    "    train=True, \n",
    "    download=True, \n",
    "    transform=transform,\n",
    ")\n",
    "\n",
    "# Split train into train and validation sets\n",
    "n_train = int(len(train_val_data) * 0.9)\n",
    "n_val = len(train_val_data) - n_train\n",
    "\n",
    "train_data, valid_data = random_split(train_val_data, [n_train, n_val])\n",
    "\n",
    "# Load Test split\n",
    "test_data = torchvision.datasets.FashionMNIST(\n",
    "    root=\"./data\", \n",
    "    train=False, \n",
    "    download=True, \n",
    "    transform=transform,\n",
    ") "
   ]
  },
  {
   "cell_type": "code",
   "execution_count": 4,
   "metadata": {
    "id": "iJ-78Bni4nOI"
   },
   "outputs": [],
   "source": [
    "batch_size=32\n",
    "\n",
    "train_loader = DataLoader(dataset=train_data, batch_size=batch_size, shuffle=True)\n",
    "valid_loader = DataLoader(dataset=valid_data, batch_size=batch_size, shuffle=True)\n",
    "test_loader = DataLoader(dataset=test_data, batch_size=batch_size, shuffle=True)"
   ]
  },
  {
   "cell_type": "code",
   "execution_count": 5,
   "metadata": {
    "colab": {
     "base_uri": "https://localhost:8080/"
    },
    "id": "nwTV8yJL0gVM",
    "outputId": "6bd0fc6f-955a-4d30-edc3-84339049f0df"
   },
   "outputs": [
    {
     "name": "stdout",
     "output_type": "stream",
     "text": [
      "54000 train samples\n",
      "6000 validation samples\n",
      "10000 test samples\n"
     ]
    }
   ],
   "source": [
    "print(len(train_loader.dataset), \"train samples\")\n",
    "print(len(valid_loader.dataset), \"validation samples\")\n",
    "print(len(test_loader.dataset), \"test samples\")"
   ]
  },
  {
   "cell_type": "code",
   "execution_count": 6,
   "metadata": {
    "colab": {
     "base_uri": "https://localhost:8080/",
     "height": 297
    },
    "id": "5uHAGoDIlID_",
    "outputId": "fecece5f-1d04-4264-ccda-2a5dacb449ee"
   },
   "outputs": [
    {
     "data": {
      "image/png": "[encoded data removed]",
      "text/plain": [
       "<Figure size 432x288 with 16 Axes>"
      ]
     },
     "metadata": {},
     "output_type": "display_data"
    }
   ],
   "source": [
    "def visualize_data(dataset):\n",
    "  \"\"\"\n",
    "  Visualize 16 samples from given dataset with corresponding labels\n",
    "  \"\"\"\n",
    "  samples = iter(dataset)\n",
    "  images, labels = samples.next()\n",
    "\n",
    "  for i in range(16):\n",
    "    ax = plt.subplot(4, 4, i+1, xticks=[], yticks=[])\n",
    "    ax.imshow(images[i][0], cmap='gray')\n",
    "    ax.set_title(labels[i].item())\n",
    "    \n",
    "  plt.tight_layout() \n",
    "  plt.show()\n",
    "\n",
    "visualize_data(train_loader)"
   ]
  },
  {
   "cell_type": "markdown",
   "metadata": {
    "id": "Sl4HfsR4seV0"
   },
   "source": [
    "## Learning"
   ]
  },
  {
   "cell_type": "code",
   "execution_count": 7,
   "metadata": {
    "id": "tRG-q8NbsvEO"
   },
   "outputs": [],
   "source": [
    "train_shape = train_data.dataset.data.shape\n",
    "input_size = train_shape[1] * train_shape[2]\n",
    "output_size = 10  # num of classes"
   ]
  },
  {
   "cell_type": "markdown",
   "metadata": {
    "id": "9-AlUwsHeZ_y"
   },
   "source": [
    "### Model Definition"
   ]
  },
  {
   "cell_type": "code",
   "execution_count": 8,
   "metadata": {
    "colab": {
     "base_uri": "https://localhost:8080/"
    },
    "id": "0PNz_9rrljAy",
    "outputId": "ab93f711-8113-4f76-cbf0-6ce2d49b8b52"
   },
   "outputs": [
    {
     "name": "stdout",
     "output_type": "stream",
     "text": [
      "Sequential(\n",
      "  (0): Linear(in_features=784, out_features=128, bias=True)\n",
      "  (1): ReLU()\n",
      "  (2): Linear(in_features=128, out_features=64, bias=True)\n",
      "  (3): ReLU()\n",
      "  (4): Linear(in_features=64, out_features=64, bias=True)\n",
      "  (5): ReLU()\n",
      "  (6): Linear(in_features=64, out_features=10, bias=True)\n",
      ")\n"
     ]
    }
   ],
   "source": [
    "hidden_layers = (128, 64, 64)\n",
    "\n",
    "def create_new_mlp_model():\n",
    "  \"\"\"\n",
    "  Create and return a MLP model as specified below\n",
    "  \"\"\"\n",
    "  model = nn.Sequential(\n",
    "      nn.Linear(input_size, hidden_layers[0]),\n",
    "      nn.ReLU(),\n",
    "      nn.Linear(hidden_layers[0], hidden_layers[1]),\n",
    "      nn.ReLU(),\n",
    "      nn.Linear(hidden_layers[1], hidden_layers[2]),\n",
    "      nn.ReLU(),\n",
    "      nn.Linear(hidden_layers[2], output_size),\n",
    "  )\n",
    "  model.to(device)\n",
    "  return model\n",
    "\n",
    "# Get a model and print layers to verify they are correct\n",
    "model = create_new_mlp_model()\n",
    "print(model)"
   ]
  },
  {
   "cell_type": "markdown",
   "metadata": {
    "id": "5NeEHD8Recpx"
   },
   "source": [
    "### Train Loop"
   ]
  },
  {
   "cell_type": "code",
   "execution_count": 9,
   "metadata": {
    "id": "xnw5JDqqtfYA"
   },
   "outputs": [],
   "source": [
    "def train_loop(dataloader, model, loss_fn, optimizer, verbose=False):\n",
    "  \"\"\"\n",
    "  Train the 'model' one time on all samples from 'dataloader' using \n",
    "  loss function 'loss_fn' and optimizer 'optimizer'.\n",
    "  Set 'verbose' to True result in printing loss each 100 iteration.\n",
    "  \"\"\"\n",
    "\n",
    "  model.train() # train mode\n",
    "\n",
    "  dataset_size = len(dataloader.dataset)\n",
    "  n_batches = len(dataloader)\n",
    "\n",
    "  running_loss = 0\n",
    "\n",
    "  for i, (images, labels) in enumerate(dataloader):\n",
    "      # Flatten the images\n",
    "      # (16, 1, 28, 28) -> (16, 1*28*28)\n",
    "      images = images.view(images.shape[0], -1)\n",
    "\n",
    "      # Move images and labels to device\n",
    "      images = images.to(device)\n",
    "      labels = labels.to(device)\n",
    "      \n",
    "      # Setting gradient to zeros to prevent accumulating gradients\n",
    "      optimizer.zero_grad()        \n",
    "\n",
    "      # Forward pass\n",
    "      output = model(images)\n",
    "      loss = loss_fn(output, labels)\n",
    "      \n",
    "      # Backward pass\n",
    "      loss.backward()\n",
    "      optimizer.step()\n",
    "      \n",
    "      running_loss += loss.item()\n",
    "\n",
    "      if verbose and (i+1) % 100 == 0:    \n",
    "        print(f\"Iteration [{i+1:>4d}/{n_batches:>4d}] - Loss: {loss.item():.5f}\")\n",
    "\n",
    "  epoch_loss = running_loss / n_batches\n",
    "  return epoch_loss\n"
   ]
  },
  {
   "cell_type": "markdown",
   "metadata": {
    "id": "j6lBkh-HefNg"
   },
   "source": [
    "### Test Loop"
   ]
  },
  {
   "cell_type": "code",
   "execution_count": 10,
   "metadata": {
    "id": "4gkJG7JxYfhZ"
   },
   "outputs": [],
   "source": [
    "def test_loop(dataloader, model, loss_fn, verbose=False):\n",
    "  \"\"\"\n",
    "  Test the 'model' on samples from 'dataloader' using \n",
    "  loss function 'loss_fn' and return loss and accuracy.\n",
    "  Set 'verbose' to True to print loss and accuracy.\n",
    "  \"\"\"\n",
    "\n",
    "  model.eval() # evaluation mode\n",
    "\n",
    "  dataset_size = len(dataloader.dataset)\n",
    "  n_batches = len(dataloader)\n",
    "  \n",
    "  test_loss = 0\n",
    "  n_correct = 0\n",
    "  \n",
    "  with torch.no_grad():\n",
    "    for images, labels in dataloader:\n",
    "      # Flatten the images\n",
    "      # (16, 1, 28, 28) -> (16, 1*28*28)\n",
    "      images = images.view(images.shape[0], -1)\n",
    "\n",
    "      # Move images and labels to device\n",
    "      images = images.to(device)\n",
    "      labels = labels.to(device)\n",
    "      \n",
    "      # Predict\n",
    "      output = model(images)\n",
    "      preds = output.argmax(dim=1)\n",
    "      \n",
    "      # Calculate loss\n",
    "      loss = loss_fn(output, labels)      \n",
    "      test_loss += loss.item()\n",
    "\n",
    "      # Calculate number of correct predictions\n",
    "      n_correct += (preds == labels).sum().item()\n",
    "\n",
    "  test_loss = test_loss / n_batches\n",
    "\n",
    "  acc = 100 * n_correct / dataset_size\n",
    "  \n",
    "  if verbose:\n",
    "    print(f\"Average loss:\\t {test_loss:>8f}\")\n",
    "    print(f\"Accuracy:\\t {(acc):>0.1f}%\")\n",
    "\n",
    "  return test_loss, acc"
   ]
  },
  {
   "cell_type": "markdown",
   "metadata": {
    "id": "OCSzIl3Iei88"
   },
   "source": [
    "### Training"
   ]
  },
  {
   "cell_type": "code",
   "execution_count": 40,
   "metadata": {
    "id": "ot-EWABgOhUz"
   },
   "outputs": [],
   "source": [
    "def training(model, loss_fn, optimizer, scheduler,\n",
    "             epochs, verbose=False, model_path='model_with_best_loss.pth'):\n",
    "  \"\"\"\n",
    "  Main training loop. \n",
    "  In each loop, we first train a model one epoch using 'train_loop' function\n",
    "  and then get the accuracy and loss on validation data and print the results.\n",
    "  The model with lowest loss on validation data will be saved in 'model_path'.\n",
    "  This will act as early stopping because we save the best model before \n",
    "  overfitting accures.\n",
    "  \"\"\"\n",
    "\n",
    "  train_losses = []\n",
    "  validation_losses = []\n",
    "\n",
    "  print(f\"[Epoch]  Train Loss - Validation Loss - Validation Accuracy\")\n",
    "\n",
    "  best_loss = None\n",
    "  validation_accuracies = []\n",
    "\n",
    "  for epoch in range(epochs):\n",
    "    trian_loss = train_loop(train_loader, model, loss_fn, optimizer, verbose=verbose)\n",
    "    validation_loss, validation_acc = test_loop(valid_loader, model, loss_fn, verbose=verbose)\n",
    "\n",
    "    train_losses.append(trian_loss)\n",
    "    validation_losses.append(validation_loss)\n",
    "    validation_accuracies.append(validation_acc)\n",
    "    \n",
    "    print(f\"[{epoch+1:>2d}/{epochs:>2d}] Train Loss: {trian_loss:.5f} - \\\n",
    "    Val Loss: {validation_loss:.5f} - Val Acc: {validation_acc:>0.3f}%\")\n",
    "    \n",
    "    # Save model with best validation loss\n",
    "    if not best_loss or validation_loss < best_loss:\n",
    "      best_loss = validation_loss\n",
    "      torch.save(model, model_path)\n",
    "    \n",
    "    if scheduler:\n",
    "      scheduler.step()\n",
    "\n",
    "  return validation_accuracies, train_losses, validation_losses"
   ]
  },
  {
   "cell_type": "markdown",
   "metadata": {
    "id": "RYNoi6SC9XSG"
   },
   "source": [
    "#### Adam Optimizer"
   ]
  },
  {
   "cell_type": "code",
   "execution_count": 45,
   "metadata": {
    "colab": {
     "base_uri": "https://localhost:8080/"
    },
    "id": "SLZR7kSsqAow",
    "outputId": "8fed9a9d-1820-4fa5-846f-431193b0488f"
   },
   "outputs": [
    {
     "name": "stdout",
     "output_type": "stream",
     "text": [
      "[Epoch]  Train Loss - Validation Loss - Validation Accuracy\n",
      "[ 1/30] Train Loss: 0.52402 -     Val Loss: 0.41209 - Val Acc: 85.400%\n",
      "[ 2/30] Train Loss: 0.37769 -     Val Loss: 0.37391 - Val Acc: 86.600%\n",
      "[ 3/30] Train Loss: 0.33654 -     Val Loss: 0.34875 - Val Acc: 87.617%\n",
      "[ 4/30] Train Loss: 0.30408 -     Val Loss: 0.32768 - Val Acc: 88.100%\n",
      "[ 5/30] Train Loss: 0.28063 -     Val Loss: 0.31474 - Val Acc: 88.883%\n",
      "[ 6/30] Train Loss: 0.26286 -     Val Loss: 0.32201 - Val Acc: 88.483%\n",
      "[ 7/30] Train Loss: 0.24851 -     Val Loss: 0.30390 - Val Acc: 88.983%\n",
      "[ 8/30] Train Loss: 0.23483 -     Val Loss: 0.30621 - Val Acc: 89.117%\n",
      "[ 9/30] Train Loss: 0.22429 -     Val Loss: 0.30432 - Val Acc: 89.217%\n",
      "[10/30] Train Loss: 0.21590 -     Val Loss: 0.29686 - Val Acc: 89.650%\n",
      "[11/30] Train Loss: 0.20895 -     Val Loss: 0.29770 - Val Acc: 89.517%\n",
      "[12/30] Train Loss: 0.20292 -     Val Loss: 0.29251 - Val Acc: 89.800%\n",
      "[13/30] Train Loss: 0.19792 -     Val Loss: 0.29932 - Val Acc: 89.683%\n",
      "[14/30] Train Loss: 0.19439 -     Val Loss: 0.30126 - Val Acc: 89.783%\n",
      "[15/30] Train Loss: 0.19066 -     Val Loss: 0.29831 - Val Acc: 89.917%\n",
      "[16/30] Train Loss: 0.18825 -     Val Loss: 0.29512 - Val Acc: 89.883%\n",
      "[17/30] Train Loss: 0.18597 -     Val Loss: 0.29631 - Val Acc: 89.733%\n",
      "[18/30] Train Loss: 0.18431 -     Val Loss: 0.29764 - Val Acc: 89.883%\n",
      "[19/30] Train Loss: 0.18315 -     Val Loss: 0.29771 - Val Acc: 89.917%\n",
      "[20/30] Train Loss: 0.18174 -     Val Loss: 0.29884 - Val Acc: 89.817%\n",
      "[21/30] Train Loss: 0.18092 -     Val Loss: 0.29705 - Val Acc: 89.950%\n",
      "[22/30] Train Loss: 0.18012 -     Val Loss: 0.29818 - Val Acc: 89.800%\n",
      "[23/30] Train Loss: 0.17957 -     Val Loss: 0.29797 - Val Acc: 89.900%\n",
      "[24/30] Train Loss: 0.17914 -     Val Loss: 0.29764 - Val Acc: 89.983%\n",
      "[25/30] Train Loss: 0.17869 -     Val Loss: 0.29745 - Val Acc: 89.950%\n",
      "[26/30] Train Loss: 0.17837 -     Val Loss: 0.29715 - Val Acc: 89.950%\n",
      "[27/30] Train Loss: 0.17812 -     Val Loss: 0.30044 - Val Acc: 89.900%\n",
      "[28/30] Train Loss: 0.17788 -     Val Loss: 0.29825 - Val Acc: 89.900%\n",
      "[29/30] Train Loss: 0.17768 -     Val Loss: 0.29720 - Val Acc: 89.867%\n",
      "[30/30] Train Loss: 0.17760 -     Val Loss: 0.29796 - Val Acc: 89.900%\n"
     ]
    }
   ],
   "source": [
    "# Model\n",
    "model = create_new_mlp_model()\n",
    "model_path = 'best_adam.pth'\n",
    "\n",
    "# Hyperparams\n",
    "epochs = 30\n",
    "learning_rate = 1e-3\n",
    "loss_fn = nn.CrossEntropyLoss()\n",
    "optimizer = torch.optim.Adam(model.parameters(), lr=learning_rate)\n",
    "scheduler = torch.optim.lr_scheduler.ExponentialLR(optimizer, gamma=0.8)\n",
    "\n",
    "# Training\n",
    "validation_accuracies, train_losses, validation_losses = training(model, \n",
    "                                                                     loss_fn, \n",
    "                                                                     optimizer, \n",
    "                                                                     scheduler,\n",
    "                                                                     epochs,\n",
    "                                                                     model_path=model_path)"
   ]
  },
  {
   "cell_type": "code",
   "execution_count": 46,
   "metadata": {
    "colab": {
     "base_uri": "https://localhost:8080/"
    },
    "id": "grD9Ulzx-3j3",
    "outputId": "0a4fdeae-8d0f-4e63-edac-73b0f40fe33f"
   },
   "outputs": [
    {
     "name": "stdout",
     "output_type": "stream",
     "text": [
      "Adam::Best accuracy of validation data: 89.98333333333333\n"
     ]
    }
   ],
   "source": [
    "print(\"Adam::Best accuracy of validation data:\", max(validation_accuracies))"
   ]
  },
  {
   "cell_type": "code",
   "execution_count": 47,
   "metadata": {
    "colab": {
     "base_uri": "https://localhost:8080/",
     "height": 279
    },
    "id": "Tlb3qYQ9BHpS",
    "outputId": "9e705e84-2cd6-4e4a-c35a-3134fd46f13e"
   },
   "outputs": [
    {
     "data": {
      "image/png": "[encoded data removed]",
      "text/plain": [
       "<Figure size 432x288 with 1 Axes>"
      ]
     },
     "metadata": {
      "needs_background": "light"
     },
     "output_type": "display_data"
    }
   ],
   "source": [
    "plt.plot(train_losses, label=\"Train loss\")\n",
    "plt.plot(validation_losses, label=\"Validation loss\")\n",
    "plt.legend()\n",
    "plt.xlabel(\"Epoch\")\n",
    "plt.ylabel(\"Loss\")\n",
    "plt.show()"
   ]
  },
  {
   "cell_type": "markdown",
   "metadata": {
    "id": "xjLDDYzg9uPO"
   },
   "source": [
    "#### SGD Optimizer"
   ]
  },
  {
   "cell_type": "code",
   "execution_count": 48,
   "metadata": {
    "colab": {
     "base_uri": "https://localhost:8080/"
    },
    "id": "wlJ3AZLW9ojV",
    "outputId": "74c413bd-8059-4cb0-c091-66189dfab14e"
   },
   "outputs": [
    {
     "name": "stdout",
     "output_type": "stream",
     "text": [
      "[Epoch]  Train Loss - Validation Loss - Validation Accuracy\n",
      "[ 1/30] Train Loss: 1.08246 -     Val Loss: 0.60868 - Val Acc: 77.450%\n",
      "[ 2/30] Train Loss: 0.55363 -     Val Loss: 0.50732 - Val Acc: 81.867%\n",
      "[ 3/30] Train Loss: 0.47912 -     Val Loss: 0.46514 - Val Acc: 83.667%\n",
      "[ 4/30] Train Loss: 0.44423 -     Val Loss: 0.45859 - Val Acc: 83.617%\n",
      "[ 5/30] Train Loss: 0.42282 -     Val Loss: 0.42753 - Val Acc: 85.200%\n",
      "[ 6/30] Train Loss: 0.40798 -     Val Loss: 0.41538 - Val Acc: 85.317%\n",
      "[ 7/30] Train Loss: 0.39703 -     Val Loss: 0.40628 - Val Acc: 85.650%\n",
      "[ 8/30] Train Loss: 0.38895 -     Val Loss: 0.40232 - Val Acc: 85.767%\n",
      "[ 9/30] Train Loss: 0.38246 -     Val Loss: 0.39348 - Val Acc: 85.950%\n",
      "[10/30] Train Loss: 0.37767 -     Val Loss: 0.39584 - Val Acc: 85.983%\n",
      "[11/30] Train Loss: 0.37349 -     Val Loss: 0.39100 - Val Acc: 86.067%\n",
      "[12/30] Train Loss: 0.37083 -     Val Loss: 0.38821 - Val Acc: 86.100%\n",
      "[13/30] Train Loss: 0.36810 -     Val Loss: 0.38659 - Val Acc: 86.400%\n",
      "[14/30] Train Loss: 0.36637 -     Val Loss: 0.38643 - Val Acc: 86.283%\n",
      "[15/30] Train Loss: 0.36483 -     Val Loss: 0.38632 - Val Acc: 86.433%\n",
      "[16/30] Train Loss: 0.36358 -     Val Loss: 0.38552 - Val Acc: 86.267%\n",
      "[17/30] Train Loss: 0.36250 -     Val Loss: 0.38285 - Val Acc: 86.467%\n",
      "[18/30] Train Loss: 0.36156 -     Val Loss: 0.38424 - Val Acc: 86.400%\n",
      "[19/30] Train Loss: 0.36122 -     Val Loss: 0.38268 - Val Acc: 86.467%\n",
      "[20/30] Train Loss: 0.36052 -     Val Loss: 0.38272 - Val Acc: 86.183%\n",
      "[21/30] Train Loss: 0.36022 -     Val Loss: 0.38157 - Val Acc: 86.483%\n",
      "[22/30] Train Loss: 0.35980 -     Val Loss: 0.38177 - Val Acc: 86.550%\n",
      "[23/30] Train Loss: 0.35951 -     Val Loss: 0.38193 - Val Acc: 86.367%\n",
      "[24/30] Train Loss: 0.35932 -     Val Loss: 0.38096 - Val Acc: 86.500%\n",
      "[25/30] Train Loss: 0.35913 -     Val Loss: 0.38172 - Val Acc: 86.483%\n",
      "[26/30] Train Loss: 0.35906 -     Val Loss: 0.38100 - Val Acc: 86.533%\n",
      "[27/30] Train Loss: 0.35890 -     Val Loss: 0.38159 - Val Acc: 86.433%\n",
      "[28/30] Train Loss: 0.35881 -     Val Loss: 0.38151 - Val Acc: 86.550%\n",
      "[29/30] Train Loss: 0.35869 -     Val Loss: 0.38113 - Val Acc: 86.533%\n",
      "[30/30] Train Loss: 0.35868 -     Val Loss: 0.38201 - Val Acc: 86.450%\n"
     ]
    }
   ],
   "source": [
    "# Model\n",
    "model = create_new_mlp_model()\n",
    "model_path = 'best_sgd.pth'\n",
    "\n",
    "# Hyperparams\n",
    "epochs = 30\n",
    "loss_fn = nn.CrossEntropyLoss()\n",
    "optimizer = torch.optim.SGD(model.parameters(), lr=0.01)\n",
    "scheduler = torch.optim.lr_scheduler.ExponentialLR(optimizer,\n",
    "                                                   gamma=0.8)\n",
    "\n",
    "# Training\n",
    "validation_accuracies, train_losses, validation_losses = training(model, \n",
    "                                                                     loss_fn, \n",
    "                                                                     optimizer, \n",
    "                                                                     scheduler,\n",
    "                                                                     epochs,\n",
    "                                                                     model_path=model_path)"
   ]
  },
  {
   "cell_type": "code",
   "execution_count": 50,
   "metadata": {
    "colab": {
     "base_uri": "https://localhost:8080/"
    },
    "id": "7Tzxx5x39tww",
    "outputId": "0fd2a5c3-d2e8-4110-d472-15574ca806ce"
   },
   "outputs": [
    {
     "name": "stdout",
     "output_type": "stream",
     "text": [
      "SGD::Best accuracy of validation data: 86.55\n"
     ]
    }
   ],
   "source": [
    "print(\"SGD::Best accuracy of validation data:\", max(validation_accuracies))"
   ]
  },
  {
   "cell_type": "code",
   "execution_count": 51,
   "metadata": {
    "colab": {
     "base_uri": "https://localhost:8080/",
     "height": 279
    },
    "id": "m3OJztOiX_5-",
    "outputId": "71c94538-7031-4be5-9454-c4a7e347c8f0"
   },
   "outputs": [
    {
     "data": {
      "image/png": "[encoded data removed]",
      "text/plain": [
       "<Figure size 432x288 with 1 Axes>"
      ]
     },
     "metadata": {
      "needs_background": "light"
     },
     "output_type": "display_data"
    }
   ],
   "source": [
    "plt.plot(train_losses, label=\"Train loss\")\n",
    "plt.plot(validation_losses, label=\"Validation loss\")\n",
    "plt.legend()\n",
    "plt.xlabel(\"Epoch\")\n",
    "plt.ylabel(\"Loss\")\n",
    "plt.show()"
   ]
  },
  {
   "cell_type": "markdown",
   "metadata": {
    "id": "1RUXKzhaVuZk"
   },
   "source": [
    "## Evaluation"
   ]
  },
  {
   "cell_type": "code",
   "execution_count": 52,
   "metadata": {
    "colab": {
     "base_uri": "https://localhost:8080/"
    },
    "id": "Uet6lwKwBfb1",
    "outputId": "a94b12e2-717d-49ff-b0a7-9ed205392685"
   },
   "outputs": [
    {
     "data": {
      "text/plain": [
       "Sequential(\n",
       "  (0): Linear(in_features=784, out_features=128, bias=True)\n",
       "  (1): ReLU()\n",
       "  (2): Linear(in_features=128, out_features=64, bias=True)\n",
       "  (3): ReLU()\n",
       "  (4): Linear(in_features=64, out_features=64, bias=True)\n",
       "  (5): ReLU()\n",
       "  (6): Linear(in_features=64, out_features=10, bias=True)\n",
       ")"
      ]
     },
     "execution_count": 52,
     "metadata": {},
     "output_type": "execute_result"
    }
   ],
   "source": [
    "model = torch.load('best_adam.pth')\n",
    "model.eval()"
   ]
  },
  {
   "cell_type": "code",
   "execution_count": 53,
   "metadata": {
    "colab": {
     "base_uri": "https://localhost:8080/"
    },
    "id": "sos06baSyTRb",
    "outputId": "5434d00d-18d2-43cc-98d0-fd6c47059995"
   },
   "outputs": [
    {
     "name": "stdout",
     "output_type": "stream",
     "text": [
      "\n",
      "Train result\n",
      "Average loss:\t 0.197951\n",
      "Accuracy:\t 92.9%\n",
      "\n",
      "Validation result\n",
      "Average loss:\t 0.294213\n",
      "Accuracy:\t 89.8%\n",
      "\n",
      "Test result\n",
      "Average loss:\t 0.321061\n",
      "Accuracy:\t 88.9%\n"
     ]
    }
   ],
   "source": [
    "print(\"\\nTrain result\")\n",
    "test_loop(train_loader, model, loss_fn, verbose=True)\n",
    "\n",
    "print(\"\\nValidation result\")\n",
    "test_loop(valid_loader, model, loss_fn, verbose=True)\n",
    "\n",
    "print(\"\\nTest result\")\n",
    "test_loss, test_acc = test_loop(test_loader, model, loss_fn, verbose=True)"
   ]
  },
  {
   "cell_type": "code",
   "execution_count": 54,
   "metadata": {
    "colab": {
     "base_uri": "https://localhost:8080/",
     "height": 297
    },
    "id": "vzf6_IoX5bi5",
    "outputId": "11cabab5-fb9d-495d-bab4-3a6938d4ff9a"
   },
   "outputs": [
    {
     "data": {
      "image/png": "[encoded data removed]",
      "text/plain": [
       "<Figure size 432x288 with 16 Axes>"
      ]
     },
     "metadata": {},
     "output_type": "display_data"
    }
   ],
   "source": [
    "samples = iter(test_loader)\n",
    "images, labels = samples.next()\n",
    "images_device = images.view(images.shape[0], -1).to(device)\n",
    "outputs = model(images_device)\n",
    "preds = outputs.argmax(dim=1)\n",
    "\n",
    "for i in range(16):\n",
    "  ax = plt.subplot(4, 4, i+1, xticks=[], yticks=[])\n",
    "  ax.imshow(images[i][0], cmap='gray')\n",
    "  if labels[i].item() == preds[i].item():\n",
    "    ax.set_title(labels[i].item(), color=\"green\")\n",
    "  else:\n",
    "    ax.set_title(f\"{preds[i].item()} != {labels[i].item()}\", color=\"red\")\n",
    "  \n",
    "plt.tight_layout() \n",
    "plt.show()"
   ]
  }
 ],
 "metadata": {
  "accelerator": "GPU",
  "colab": {
   "collapsed_sections": [],
   "name": "FinalProject.ipynb",
   "provenance": [],
   "toc_visible": true
  },
  "gpuClass": "standard",
  "kernelspec": {
   "display_name": "Python 3.9.13 64-bit",
   "language": "python",
   "name": "python3"
  },
  "language_info": {
   "codemirror_mode": {
    "name": "ipython",
    "version": 3
   },
   "file_extension": ".py",
   "mimetype": "text/x-python",
   "name": "python",
   "nbconvert_exporter": "python",
   "pygments_lexer": "ipython3",
   "version": "3.9.13"
  },
  "vscode": {
   "interpreter": {
    "hash": "aee8b7b246df8f9039afb4144a1f6fd8d2ca17a180786b69acc140d282b71a49"
   }
  },
  "widgets": {
   "application/vnd.jupyter.widget-state+json": {
    "014000052db04301ba8cbc2ad7ca51d4": {
     "model_module": "@jupyter-widgets/controls",
     "model_module_version": "1.5.0",
     "model_name": "HTMLModel",
     "state": {
      "_dom_classes": [],
      "_model_module": "@jupyter-widgets/controls",
      "_model_module_version": "1.5.0",
      "_model_name": "HTMLModel",
      "_view_count": null,
      "_view_module": "@jupyter-widgets/controls",
      "_view_module_version": "1.5.0",
      "_view_name": "HTMLView",
      "description": "",
      "description_tooltip": null,
      "layout": "IPY_MODEL_f20b4478c8fe4bbcbc71ae34a9e2f4cf",
      "placeholder": "​",
      "style": "IPY_MODEL_9d86751d2c9c4a2189816f18ec382df9",
      "value": "100%"
     }
    },
    "0de8728d20654dfa80d9401a8bb7f997": {
     "model_module": "@jupyter-widgets/base",
     "model_module_version": "1.2.0",
     "model_name": "LayoutModel",
     "state": {
      "_model_module": "@jupyter-widgets/base",
      "_model_module_version": "1.2.0",
      "_model_name": "LayoutModel",
      "_view_count": null,
      "_view_module": "@jupyter-widgets/base",
      "_view_module_version": "1.2.0",
      "_view_name": "LayoutView",
      "align_content": null,
      "align_items": null,
      "align_self": null,
      "border": null,
      "bottom": null,
      "display": null,
      "flex": null,
      "flex_flow": null,
      "grid_area": null,
      "grid_auto_columns": null,
      "grid_auto_flow": null,
      "grid_auto_rows": null,
      "grid_column": null,
      "grid_gap": null,
      "grid_row": null,
      "grid_template_areas": null,
      "grid_template_columns": null,
      "grid_template_rows": null,
      "height": null,
      "justify_content": null,
      "justify_items": null,
      "left": null,
      "margin": null,
      "max_height": null,
      "max_width": null,
      "min_height": null,
      "min_width": null,
      "object_fit": null,
      "object_position": null,
      "order": null,
      "overflow": null,
      "overflow_x": null,
      "overflow_y": null,
      "padding": null,
      "right": null,
      "top": null,
      "visibility": null,
      "width": null
     }
    },
    "186c18b5d6de49de8cf3d6b17c0828b3": {
     "model_module": "@jupyter-widgets/base",
     "model_module_version": "1.2.0",
     "model_name": "LayoutModel",
     "state": {
      "_model_module": "@jupyter-widgets/base",
      "_model_module_version": "1.2.0",
      "_model_name": "LayoutModel",
      "_view_count": null,
      "_view_module": "@jupyter-widgets/base",
      "_view_module_version": "1.2.0",
      "_view_name": "LayoutView",
      "align_content": null,
      "align_items": null,
      "align_self": null,
      "border": null,
      "bottom": null,
      "display": null,
      "flex": null,
      "flex_flow": null,
      "grid_area": null,
      "grid_auto_columns": null,
      "grid_auto_flow": null,
      "grid_auto_rows": null,
      "grid_column": null,
      "grid_gap": null,
      "grid_row": null,
      "grid_template_areas": null,
      "grid_template_columns": null,
      "grid_template_rows": null,
      "height": null,
      "justify_content": null,
      "justify_items": null,
      "left": null,
      "margin": null,
      "max_height": null,
      "max_width": null,
      "min_height": null,
      "min_width": null,
      "object_fit": null,
      "object_position": null,
      "order": null,
      "overflow": null,
      "overflow_x": null,
      "overflow_y": null,
      "padding": null,
      "right": null,
      "top": null,
      "visibility": null,
      "width": null
     }
    },
    "1b345e60bc8445b686bbc29bf9fa0181": {
     "model_module": "@jupyter-widgets/base",
     "model_module_version": "1.2.0",
     "model_name": "LayoutModel",
     "state": {
      "_model_module": "@jupyter-widgets/base",
      "_model_module_version": "1.2.0",
      "_model_name": "LayoutModel",
      "_view_count": null,
      "_view_module": "@jupyter-widgets/base",
      "_view_module_version": "1.2.0",
      "_view_name": "LayoutView",
      "align_content": null,
      "align_items": null,
      "align_self": null,
      "border": null,
      "bottom": null,
      "display": null,
      "flex": null,
      "flex_flow": null,
      "grid_area": null,
      "grid_auto_columns": null,
      "grid_auto_flow": null,
      "grid_auto_rows": null,
      "grid_column": null,
      "grid_gap": null,
      "grid_row": null,
      "grid_template_areas": null,
      "grid_template_columns": null,
      "grid_template_rows": null,
      "height": null,
      "justify_content": null,
      "justify_items": null,
      "left": null,
      "margin": null,
      "max_height": null,
      "max_width": null,
      "min_height": null,
      "min_width": null,
      "object_fit": null,
      "object_position": null,
      "order": null,
      "overflow": null,
      "overflow_x": null,
      "overflow_y": null,
      "padding": null,
      "right": null,
      "top": null,
      "visibility": null,
      "width": null
     }
    },
    "1db3885568a740cc80d64eaab24567c7": {
     "model_module": "@jupyter-widgets/controls",
     "model_module_version": "1.5.0",
     "model_name": "DescriptionStyleModel",
     "state": {
      "_model_module": "@jupyter-widgets/controls",
      "_model_module_version": "1.5.0",
      "_model_name": "DescriptionStyleModel",
      "_view_count": null,
      "_view_module": "@jupyter-widgets/base",
      "_view_module_version": "1.2.0",
      "_view_name": "StyleView",
      "description_width": ""
     }
    },
    "1fc57e65015a4918b136fd23ecd978df": {
     "model_module": "@jupyter-widgets/controls",
     "model_module_version": "1.5.0",
     "model_name": "ProgressStyleModel",
     "state": {
      "_model_module": "@jupyter-widgets/controls",
      "_model_module_version": "1.5.0",
      "_model_name": "ProgressStyleModel",
      "_view_count": null,
      "_view_module": "@jupyter-widgets/base",
      "_view_module_version": "1.2.0",
      "_view_name": "StyleView",
      "bar_color": null,
      "description_width": ""
     }
    },
    "21714205254944b1aaa3444549ef1b41": {
     "model_module": "@jupyter-widgets/controls",
     "model_module_version": "1.5.0",
     "model_name": "HTMLModel",
     "state": {
      "_dom_classes": [],
      "_model_module": "@jupyter-widgets/controls",
      "_model_module_version": "1.5.0",
      "_model_name": "HTMLModel",
      "_view_count": null,
      "_view_module": "@jupyter-widgets/controls",
      "_view_module_version": "1.5.0",
      "_view_name": "HTMLView",
      "description": "",
      "description_tooltip": null,
      "layout": "IPY_MODEL_c75f686c5b00488e8a3b09904bad5fe1",
      "placeholder": "​",
      "style": "IPY_MODEL_90b3411096f94aec8c87db8a7eb2495f",
      "value": "100%"
     }
    },
    "273944f15a3d41008baf60b68103491a": {
     "model_module": "@jupyter-widgets/controls",
     "model_module_version": "1.5.0",
     "model_name": "HTMLModel",
     "state": {
      "_dom_classes": [],
      "_model_module": "@jupyter-widgets/controls",
      "_model_module_version": "1.5.0",
      "_model_name": "HTMLModel",
      "_view_count": null,
      "_view_module": "@jupyter-widgets/controls",
      "_view_module_version": "1.5.0",
      "_view_name": "HTMLView",
      "description": "",
      "description_tooltip": null,
      "layout": "IPY_MODEL_1b345e60bc8445b686bbc29bf9fa0181",
      "placeholder": "​",
      "style": "IPY_MODEL_5fe04a4e7fb54563b79979ca9be4b974",
      "value": " 26421880/26421880 [00:01&lt;00:00, 24628777.41it/s]"
     }
    },
    "3f5aa46ebd1345389a9eb36d7c3f89b6": {
     "model_module": "@jupyter-widgets/controls",
     "model_module_version": "1.5.0",
     "model_name": "HTMLModel",
     "state": {
      "_dom_classes": [],
      "_model_module": "@jupyter-widgets/controls",
      "_model_module_version": "1.5.0",
      "_model_name": "HTMLModel",
      "_view_count": null,
      "_view_module": "@jupyter-widgets/controls",
      "_view_module_version": "1.5.0",
      "_view_name": "HTMLView",
      "description": "",
      "description_tooltip": null,
      "layout": "IPY_MODEL_186c18b5d6de49de8cf3d6b17c0828b3",
      "placeholder": "​",
      "style": "IPY_MODEL_e69afe57a14f4c4998f030e929496bda",
      "value": " 4422102/4422102 [00:00&lt;00:00, 7436067.10it/s]"
     }
    },
    "450d1b9237cb40e9b930237c95af8b97": {
     "model_module": "@jupyter-widgets/controls",
     "model_module_version": "1.5.0",
     "model_name": "HBoxModel",
     "state": {
      "_dom_classes": [],
      "_model_module": "@jupyter-widgets/controls",
      "_model_module_version": "1.5.0",
      "_model_name": "HBoxModel",
      "_view_count": null,
      "_view_module": "@jupyter-widgets/controls",
      "_view_module_version": "1.5.0",
      "_view_name": "HBoxView",
      "box_style": "",
      "children": [
       "IPY_MODEL_014000052db04301ba8cbc2ad7ca51d4",
       "IPY_MODEL_97a40cfabcc046b4b0a39c24d1a3e211",
       "IPY_MODEL_7affc0c88e644bcfb484c627007193f8"
      ],
      "layout": "IPY_MODEL_d7d6f8bcbf9945a28f756384d30c3cd7"
     }
    },
    "4969c4bc2cc748f5908cfe4c92eba1fc": {
     "model_module": "@jupyter-widgets/controls",
     "model_module_version": "1.5.0",
     "model_name": "HTMLModel",
     "state": {
      "_dom_classes": [],
      "_model_module": "@jupyter-widgets/controls",
      "_model_module_version": "1.5.0",
      "_model_name": "HTMLModel",
      "_view_count": null,
      "_view_module": "@jupyter-widgets/controls",
      "_view_module_version": "1.5.0",
      "_view_name": "HTMLView",
      "description": "",
      "description_tooltip": null,
      "layout": "IPY_MODEL_66561d57bcbd4599b4f13e68817d9e09",
      "placeholder": "​",
      "style": "IPY_MODEL_1db3885568a740cc80d64eaab24567c7",
      "value": "100%"
     }
    },
    "500748b3c83d45b080c33c8f5f8ce2ea": {
     "model_module": "@jupyter-widgets/base",
     "model_module_version": "1.2.0",
     "model_name": "LayoutModel",
     "state": {
      "_model_module": "@jupyter-widgets/base",
      "_model_module_version": "1.2.0",
      "_model_name": "LayoutModel",
      "_view_count": null,
      "_view_module": "@jupyter-widgets/base",
      "_view_module_version": "1.2.0",
      "_view_name": "LayoutView",
      "align_content": null,
      "align_items": null,
      "align_self": null,
      "border": null,
      "bottom": null,
      "display": null,
      "flex": null,
      "flex_flow": null,
      "grid_area": null,
      "grid_auto_columns": null,
      "grid_auto_flow": null,
      "grid_auto_rows": null,
      "grid_column": null,
      "grid_gap": null,
      "grid_row": null,
      "grid_template_areas": null,
      "grid_template_columns": null,
      "grid_template_rows": null,
      "height": null,
      "justify_content": null,
      "justify_items": null,
      "left": null,
      "margin": null,
      "max_height": null,
      "max_width": null,
      "min_height": null,
      "min_width": null,
      "object_fit": null,
      "object_position": null,
      "order": null,
      "overflow": null,
      "overflow_x": null,
      "overflow_y": null,
      "padding": null,
      "right": null,
      "top": null,
      "visibility": null,
      "width": null
     }
    },
    "54df9a927b9f4ca680bcdee2b340131e": {
     "model_module": "@jupyter-widgets/controls",
     "model_module_version": "1.5.0",
     "model_name": "HBoxModel",
     "state": {
      "_dom_classes": [],
      "_model_module": "@jupyter-widgets/controls",
      "_model_module_version": "1.5.0",
      "_model_name": "HBoxModel",
      "_view_count": null,
      "_view_module": "@jupyter-widgets/controls",
      "_view_module_version": "1.5.0",
      "_view_name": "HBoxView",
      "box_style": "",
      "children": [
       "IPY_MODEL_21714205254944b1aaa3444549ef1b41",
       "IPY_MODEL_7694ff4b1fdb4f4180a1d863daafc4d6",
       "IPY_MODEL_b3a6dba7c4744834b5ce6f85fb990c3d"
      ],
      "layout": "IPY_MODEL_fdf9b587603c4e7ebd002fbbbb0448f8"
     }
    },
    "5ae1b263365c4a8bb8b39089e024da7b": {
     "model_module": "@jupyter-widgets/base",
     "model_module_version": "1.2.0",
     "model_name": "LayoutModel",
     "state": {
      "_model_module": "@jupyter-widgets/base",
      "_model_module_version": "1.2.0",
      "_model_name": "LayoutModel",
      "_view_count": null,
      "_view_module": "@jupyter-widgets/base",
      "_view_module_version": "1.2.0",
      "_view_name": "LayoutView",
      "align_content": null,
      "align_items": null,
      "align_self": null,
      "border": null,
      "bottom": null,
      "display": null,
      "flex": null,
      "flex_flow": null,
      "grid_area": null,
      "grid_auto_columns": null,
      "grid_auto_flow": null,
      "grid_auto_rows": null,
      "grid_column": null,
      "grid_gap": null,
      "grid_row": null,
      "grid_template_areas": null,
      "grid_template_columns": null,
      "grid_template_rows": null,
      "height": null,
      "justify_content": null,
      "justify_items": null,
      "left": null,
      "margin": null,
      "max_height": null,
      "max_width": null,
      "min_height": null,
      "min_width": null,
      "object_fit": null,
      "object_position": null,
      "order": null,
      "overflow": null,
      "overflow_x": null,
      "overflow_y": null,
      "padding": null,
      "right": null,
      "top": null,
      "visibility": null,
      "width": null
     }
    },
    "5fe04a4e7fb54563b79979ca9be4b974": {
     "model_module": "@jupyter-widgets/controls",
     "model_module_version": "1.5.0",
     "model_name": "DescriptionStyleModel",
     "state": {
      "_model_module": "@jupyter-widgets/controls",
      "_model_module_version": "1.5.0",
      "_model_name": "DescriptionStyleModel",
      "_view_count": null,
      "_view_module": "@jupyter-widgets/base",
      "_view_module_version": "1.2.0",
      "_view_name": "StyleView",
      "description_width": ""
     }
    },
    "66561d57bcbd4599b4f13e68817d9e09": {
     "model_module": "@jupyter-widgets/base",
     "model_module_version": "1.2.0",
     "model_name": "LayoutModel",
     "state": {
      "_model_module": "@jupyter-widgets/base",
      "_model_module_version": "1.2.0",
      "_model_name": "LayoutModel",
      "_view_count": null,
      "_view_module": "@jupyter-widgets/base",
      "_view_module_version": "1.2.0",
      "_view_name": "LayoutView",
      "align_content": null,
      "align_items": null,
      "align_self": null,
      "border": null,
      "bottom": null,
      "display": null,
      "flex": null,
      "flex_flow": null,
      "grid_area": null,
      "grid_auto_columns": null,
      "grid_auto_flow": null,
      "grid_auto_rows": null,
      "grid_column": null,
      "grid_gap": null,
      "grid_row": null,
      "grid_template_areas": null,
      "grid_template_columns": null,
      "grid_template_rows": null,
      "height": null,
      "justify_content": null,
      "justify_items": null,
      "left": null,
      "margin": null,
      "max_height": null,
      "max_width": null,
      "min_height": null,
      "min_width": null,
      "object_fit": null,
      "object_position": null,
      "order": null,
      "overflow": null,
      "overflow_x": null,
      "overflow_y": null,
      "padding": null,
      "right": null,
      "top": null,
      "visibility": null,
      "width": null
     }
    },
    "73bebfea2fa94598a81eaac82be021b7": {
     "model_module": "@jupyter-widgets/controls",
     "model_module_version": "1.5.0",
     "model_name": "DescriptionStyleModel",
     "state": {
      "_model_module": "@jupyter-widgets/controls",
      "_model_module_version": "1.5.0",
      "_model_name": "DescriptionStyleModel",
      "_view_count": null,
      "_view_module": "@jupyter-widgets/base",
      "_view_module_version": "1.2.0",
      "_view_name": "StyleView",
      "description_width": ""
     }
    },
    "7694ff4b1fdb4f4180a1d863daafc4d6": {
     "model_module": "@jupyter-widgets/controls",
     "model_module_version": "1.5.0",
     "model_name": "FloatProgressModel",
     "state": {
      "_dom_classes": [],
      "_model_module": "@jupyter-widgets/controls",
      "_model_module_version": "1.5.0",
      "_model_name": "FloatProgressModel",
      "_view_count": null,
      "_view_module": "@jupyter-widgets/controls",
      "_view_module_version": "1.5.0",
      "_view_name": "ProgressView",
      "bar_style": "success",
      "description": "",
      "description_tooltip": null,
      "layout": "IPY_MODEL_0de8728d20654dfa80d9401a8bb7f997",
      "max": 29515,
      "min": 0,
      "orientation": "horizontal",
      "style": "IPY_MODEL_a14090d11946409bb32c8a889bd5c235",
      "value": 29515
     }
    },
    "7affc0c88e644bcfb484c627007193f8": {
     "model_module": "@jupyter-widgets/controls",
     "model_module_version": "1.5.0",
     "model_name": "HTMLModel",
     "state": {
      "_dom_classes": [],
      "_model_module": "@jupyter-widgets/controls",
      "_model_module_version": "1.5.0",
      "_model_name": "HTMLModel",
      "_view_count": null,
      "_view_module": "@jupyter-widgets/controls",
      "_view_module_version": "1.5.0",
      "_view_name": "HTMLView",
      "description": "",
      "description_tooltip": null,
      "layout": "IPY_MODEL_c169dacd7ef74ca7bd3037b9bfb596df",
      "placeholder": "​",
      "style": "IPY_MODEL_d334803b01814e88bf0c96c30ac3c90a",
      "value": " 5148/5148 [00:00&lt;00:00, 173537.88it/s]"
     }
    },
    "90b3411096f94aec8c87db8a7eb2495f": {
     "model_module": "@jupyter-widgets/controls",
     "model_module_version": "1.5.0",
     "model_name": "DescriptionStyleModel",
     "state": {
      "_model_module": "@jupyter-widgets/controls",
      "_model_module_version": "1.5.0",
      "_model_name": "DescriptionStyleModel",
      "_view_count": null,
      "_view_module": "@jupyter-widgets/base",
      "_view_module_version": "1.2.0",
      "_view_name": "StyleView",
      "description_width": ""
     }
    },
    "97a40cfabcc046b4b0a39c24d1a3e211": {
     "model_module": "@jupyter-widgets/controls",
     "model_module_version": "1.5.0",
     "model_name": "FloatProgressModel",
     "state": {
      "_dom_classes": [],
      "_model_module": "@jupyter-widgets/controls",
      "_model_module_version": "1.5.0",
      "_model_name": "FloatProgressModel",
      "_view_count": null,
      "_view_module": "@jupyter-widgets/controls",
      "_view_module_version": "1.5.0",
      "_view_name": "ProgressView",
      "bar_style": "success",
      "description": "",
      "description_tooltip": null,
      "layout": "IPY_MODEL_5ae1b263365c4a8bb8b39089e024da7b",
      "max": 5148,
      "min": 0,
      "orientation": "horizontal",
      "style": "IPY_MODEL_d6660b145eee4ce2872575163e3245a9",
      "value": 5148
     }
    },
    "99bf6a5f945846819abf09725b355717": {
     "model_module": "@jupyter-widgets/base",
     "model_module_version": "1.2.0",
     "model_name": "LayoutModel",
     "state": {
      "_model_module": "@jupyter-widgets/base",
      "_model_module_version": "1.2.0",
      "_model_name": "LayoutModel",
      "_view_count": null,
      "_view_module": "@jupyter-widgets/base",
      "_view_module_version": "1.2.0",
      "_view_name": "LayoutView",
      "align_content": null,
      "align_items": null,
      "align_self": null,
      "border": null,
      "bottom": null,
      "display": null,
      "flex": null,
      "flex_flow": null,
      "grid_area": null,
      "grid_auto_columns": null,
      "grid_auto_flow": null,
      "grid_auto_rows": null,
      "grid_column": null,
      "grid_gap": null,
      "grid_row": null,
      "grid_template_areas": null,
      "grid_template_columns": null,
      "grid_template_rows": null,
      "height": null,
      "justify_content": null,
      "justify_items": null,
      "left": null,
      "margin": null,
      "max_height": null,
      "max_width": null,
      "min_height": null,
      "min_width": null,
      "object_fit": null,
      "object_position": null,
      "order": null,
      "overflow": null,
      "overflow_x": null,
      "overflow_y": null,
      "padding": null,
      "right": null,
      "top": null,
      "visibility": null,
      "width": null
     }
    },
    "9d86751d2c9c4a2189816f18ec382df9": {
     "model_module": "@jupyter-widgets/controls",
     "model_module_version": "1.5.0",
     "model_name": "DescriptionStyleModel",
     "state": {
      "_model_module": "@jupyter-widgets/controls",
      "_model_module_version": "1.5.0",
      "_model_name": "DescriptionStyleModel",
      "_view_count": null,
      "_view_module": "@jupyter-widgets/base",
      "_view_module_version": "1.2.0",
      "_view_name": "StyleView",
      "description_width": ""
     }
    },
    "a14090d11946409bb32c8a889bd5c235": {
     "model_module": "@jupyter-widgets/controls",
     "model_module_version": "1.5.0",
     "model_name": "ProgressStyleModel",
     "state": {
      "_model_module": "@jupyter-widgets/controls",
      "_model_module_version": "1.5.0",
      "_model_name": "ProgressStyleModel",
      "_view_count": null,
      "_view_module": "@jupyter-widgets/base",
      "_view_module_version": "1.2.0",
      "_view_name": "StyleView",
      "bar_color": null,
      "description_width": ""
     }
    },
    "b16a8505cecf4377b6a2966a6ced371e": {
     "model_module": "@jupyter-widgets/controls",
     "model_module_version": "1.5.0",
     "model_name": "HTMLModel",
     "state": {
      "_dom_classes": [],
      "_model_module": "@jupyter-widgets/controls",
      "_model_module_version": "1.5.0",
      "_model_name": "HTMLModel",
      "_view_count": null,
      "_view_module": "@jupyter-widgets/controls",
      "_view_module_version": "1.5.0",
      "_view_name": "HTMLView",
      "description": "",
      "description_tooltip": null,
      "layout": "IPY_MODEL_eae79e1f995f4012a38f82f9e05d902d",
      "placeholder": "​",
      "style": "IPY_MODEL_e719cd78e2714bec8bf92eb39d816e01",
      "value": "100%"
     }
    },
    "b26a91ed144844b5984b59461cd69ec1": {
     "model_module": "@jupyter-widgets/controls",
     "model_module_version": "1.5.0",
     "model_name": "FloatProgressModel",
     "state": {
      "_dom_classes": [],
      "_model_module": "@jupyter-widgets/controls",
      "_model_module_version": "1.5.0",
      "_model_name": "FloatProgressModel",
      "_view_count": null,
      "_view_module": "@jupyter-widgets/controls",
      "_view_module_version": "1.5.0",
      "_view_name": "ProgressView",
      "bar_style": "success",
      "description": "",
      "description_tooltip": null,
      "layout": "IPY_MODEL_e0a0953cb050437bac3756b69d22c34c",
      "max": 4422102,
      "min": 0,
      "orientation": "horizontal",
      "style": "IPY_MODEL_d634b313e16e4d73a5e97f83ce6a3836",
      "value": 4422102
     }
    },
    "b3a6dba7c4744834b5ce6f85fb990c3d": {
     "model_module": "@jupyter-widgets/controls",
     "model_module_version": "1.5.0",
     "model_name": "HTMLModel",
     "state": {
      "_dom_classes": [],
      "_model_module": "@jupyter-widgets/controls",
      "_model_module_version": "1.5.0",
      "_model_name": "HTMLModel",
      "_view_count": null,
      "_view_module": "@jupyter-widgets/controls",
      "_view_module_version": "1.5.0",
      "_view_name": "HTMLView",
      "description": "",
      "description_tooltip": null,
      "layout": "IPY_MODEL_f9bf963742744b69b493fa228375db97",
      "placeholder": "​",
      "style": "IPY_MODEL_73bebfea2fa94598a81eaac82be021b7",
      "value": " 29515/29515 [00:00&lt;00:00, 268764.66it/s]"
     }
    },
    "bb086f33b5324ef19d28923416437f4f": {
     "model_module": "@jupyter-widgets/controls",
     "model_module_version": "1.5.0",
     "model_name": "HBoxModel",
     "state": {
      "_dom_classes": [],
      "_model_module": "@jupyter-widgets/controls",
      "_model_module_version": "1.5.0",
      "_model_name": "HBoxModel",
      "_view_count": null,
      "_view_module": "@jupyter-widgets/controls",
      "_view_module_version": "1.5.0",
      "_view_name": "HBoxView",
      "box_style": "",
      "children": [
       "IPY_MODEL_b16a8505cecf4377b6a2966a6ced371e",
       "IPY_MODEL_c8cb18d9c5f8490a927287df6a883ee3",
       "IPY_MODEL_273944f15a3d41008baf60b68103491a"
      ],
      "layout": "IPY_MODEL_99bf6a5f945846819abf09725b355717"
     }
    },
    "c169dacd7ef74ca7bd3037b9bfb596df": {
     "model_module": "@jupyter-widgets/base",
     "model_module_version": "1.2.0",
     "model_name": "LayoutModel",
     "state": {
      "_model_module": "@jupyter-widgets/base",
      "_model_module_version": "1.2.0",
      "_model_name": "LayoutModel",
      "_view_count": null,
      "_view_module": "@jupyter-widgets/base",
      "_view_module_version": "1.2.0",
      "_view_name": "LayoutView",
      "align_content": null,
      "align_items": null,
      "align_self": null,
      "border": null,
      "bottom": null,
      "display": null,
      "flex": null,
      "flex_flow": null,
      "grid_area": null,
      "grid_auto_columns": null,
      "grid_auto_flow": null,
      "grid_auto_rows": null,
      "grid_column": null,
      "grid_gap": null,
      "grid_row": null,
      "grid_template_areas": null,
      "grid_template_columns": null,
      "grid_template_rows": null,
      "height": null,
      "justify_content": null,
      "justify_items": null,
      "left": null,
      "margin": null,
      "max_height": null,
      "max_width": null,
      "min_height": null,
      "min_width": null,
      "object_fit": null,
      "object_position": null,
      "order": null,
      "overflow": null,
      "overflow_x": null,
      "overflow_y": null,
      "padding": null,
      "right": null,
      "top": null,
      "visibility": null,
      "width": null
     }
    },
    "c75f686c5b00488e8a3b09904bad5fe1": {
     "model_module": "@jupyter-widgets/base",
     "model_module_version": "1.2.0",
     "model_name": "LayoutModel",
     "state": {
      "_model_module": "@jupyter-widgets/base",
      "_model_module_version": "1.2.0",
      "_model_name": "LayoutModel",
      "_view_count": null,
      "_view_module": "@jupyter-widgets/base",
      "_view_module_version": "1.2.0",
      "_view_name": "LayoutView",
      "align_content": null,
      "align_items": null,
      "align_self": null,
      "border": null,
      "bottom": null,
      "display": null,
      "flex": null,
      "flex_flow": null,
      "grid_area": null,
      "grid_auto_columns": null,
      "grid_auto_flow": null,
      "grid_auto_rows": null,
      "grid_column": null,
      "grid_gap": null,
      "grid_row": null,
      "grid_template_areas": null,
      "grid_template_columns": null,
      "grid_template_rows": null,
      "height": null,
      "justify_content": null,
      "justify_items": null,
      "left": null,
      "margin": null,
      "max_height": null,
      "max_width": null,
      "min_height": null,
      "min_width": null,
      "object_fit": null,
      "object_position": null,
      "order": null,
      "overflow": null,
      "overflow_x": null,
      "overflow_y": null,
      "padding": null,
      "right": null,
      "top": null,
      "visibility": null,
      "width": null
     }
    },
    "c8605f82fd784ec1bd7741531b2cad1b": {
     "model_module": "@jupyter-widgets/base",
     "model_module_version": "1.2.0",
     "model_name": "LayoutModel",
     "state": {
      "_model_module": "@jupyter-widgets/base",
      "_model_module_version": "1.2.0",
      "_model_name": "LayoutModel",
      "_view_count": null,
      "_view_module": "@jupyter-widgets/base",
      "_view_module_version": "1.2.0",
      "_view_name": "LayoutView",
      "align_content": null,
      "align_items": null,
      "align_self": null,
      "border": null,
      "bottom": null,
      "display": null,
      "flex": null,
      "flex_flow": null,
      "grid_area": null,
      "grid_auto_columns": null,
      "grid_auto_flow": null,
      "grid_auto_rows": null,
      "grid_column": null,
      "grid_gap": null,
      "grid_row": null,
      "grid_template_areas": null,
      "grid_template_columns": null,
      "grid_template_rows": null,
      "height": null,
      "justify_content": null,
      "justify_items": null,
      "left": null,
      "margin": null,
      "max_height": null,
      "max_width": null,
      "min_height": null,
      "min_width": null,
      "object_fit": null,
      "object_position": null,
      "order": null,
      "overflow": null,
      "overflow_x": null,
      "overflow_y": null,
      "padding": null,
      "right": null,
      "top": null,
      "visibility": null,
      "width": null
     }
    },
    "c8cb18d9c5f8490a927287df6a883ee3": {
     "model_module": "@jupyter-widgets/controls",
     "model_module_version": "1.5.0",
     "model_name": "FloatProgressModel",
     "state": {
      "_dom_classes": [],
      "_model_module": "@jupyter-widgets/controls",
      "_model_module_version": "1.5.0",
      "_model_name": "FloatProgressModel",
      "_view_count": null,
      "_view_module": "@jupyter-widgets/controls",
      "_view_module_version": "1.5.0",
      "_view_name": "ProgressView",
      "bar_style": "success",
      "description": "",
      "description_tooltip": null,
      "layout": "IPY_MODEL_c8605f82fd784ec1bd7741531b2cad1b",
      "max": 26421880,
      "min": 0,
      "orientation": "horizontal",
      "style": "IPY_MODEL_1fc57e65015a4918b136fd23ecd978df",
      "value": 26421880
     }
    },
    "d334803b01814e88bf0c96c30ac3c90a": {
     "model_module": "@jupyter-widgets/controls",
     "model_module_version": "1.5.0",
     "model_name": "DescriptionStyleModel",
     "state": {
      "_model_module": "@jupyter-widgets/controls",
      "_model_module_version": "1.5.0",
      "_model_name": "DescriptionStyleModel",
      "_view_count": null,
      "_view_module": "@jupyter-widgets/base",
      "_view_module_version": "1.2.0",
      "_view_name": "StyleView",
      "description_width": ""
     }
    },
    "d634b313e16e4d73a5e97f83ce6a3836": {
     "model_module": "@jupyter-widgets/controls",
     "model_module_version": "1.5.0",
     "model_name": "ProgressStyleModel",
     "state": {
      "_model_module": "@jupyter-widgets/controls",
      "_model_module_version": "1.5.0",
      "_model_name": "ProgressStyleModel",
      "_view_count": null,
      "_view_module": "@jupyter-widgets/base",
      "_view_module_version": "1.2.0",
      "_view_name": "StyleView",
      "bar_color": null,
      "description_width": ""
     }
    },
    "d6660b145eee4ce2872575163e3245a9": {
     "model_module": "@jupyter-widgets/controls",
     "model_module_version": "1.5.0",
     "model_name": "ProgressStyleModel",
     "state": {
      "_model_module": "@jupyter-widgets/controls",
      "_model_module_version": "1.5.0",
      "_model_name": "ProgressStyleModel",
      "_view_count": null,
      "_view_module": "@jupyter-widgets/base",
      "_view_module_version": "1.2.0",
      "_view_name": "StyleView",
      "bar_color": null,
      "description_width": ""
     }
    },
    "d7d6f8bcbf9945a28f756384d30c3cd7": {
     "model_module": "@jupyter-widgets/base",
     "model_module_version": "1.2.0",
     "model_name": "LayoutModel",
     "state": {
      "_model_module": "@jupyter-widgets/base",
      "_model_module_version": "1.2.0",
      "_model_name": "LayoutModel",
      "_view_count": null,
      "_view_module": "@jupyter-widgets/base",
      "_view_module_version": "1.2.0",
      "_view_name": "LayoutView",
      "align_content": null,
      "align_items": null,
      "align_self": null,
      "border": null,
      "bottom": null,
      "display": null,
      "flex": null,
      "flex_flow": null,
      "grid_area": null,
      "grid_auto_columns": null,
      "grid_auto_flow": null,
      "grid_auto_rows": null,
      "grid_column": null,
      "grid_gap": null,
      "grid_row": null,
      "grid_template_areas": null,
      "grid_template_columns": null,
      "grid_template_rows": null,
      "height": null,
      "justify_content": null,
      "justify_items": null,
      "left": null,
      "margin": null,
      "max_height": null,
      "max_width": null,
      "min_height": null,
      "min_width": null,
      "object_fit": null,
      "object_position": null,
      "order": null,
      "overflow": null,
      "overflow_x": null,
      "overflow_y": null,
      "padding": null,
      "right": null,
      "top": null,
      "visibility": null,
      "width": null
     }
    },
    "e0a0953cb050437bac3756b69d22c34c": {
     "model_module": "@jupyter-widgets/base",
     "model_module_version": "1.2.0",
     "model_name": "LayoutModel",
     "state": {
      "_model_module": "@jupyter-widgets/base",
      "_model_module_version": "1.2.0",
      "_model_name": "LayoutModel",
      "_view_count": null,
      "_view_module": "@jupyter-widgets/base",
      "_view_module_version": "1.2.0",
      "_view_name": "LayoutView",
      "align_content": null,
      "align_items": null,
      "align_self": null,
      "border": null,
      "bottom": null,
      "display": null,
      "flex": null,
      "flex_flow": null,
      "grid_area": null,
      "grid_auto_columns": null,
      "grid_auto_flow": null,
      "grid_auto_rows": null,
      "grid_column": null,
      "grid_gap": null,
      "grid_row": null,
      "grid_template_areas": null,
      "grid_template_columns": null,
      "grid_template_rows": null,
      "height": null,
      "justify_content": null,
      "justify_items": null,
      "left": null,
      "margin": null,
      "max_height": null,
      "max_width": null,
      "min_height": null,
      "min_width": null,
      "object_fit": null,
      "object_position": null,
      "order": null,
      "overflow": null,
      "overflow_x": null,
      "overflow_y": null,
      "padding": null,
      "right": null,
      "top": null,
      "visibility": null,
      "width": null
     }
    },
    "e2fac334219f4e55a940f73f94ec32ef": {
     "model_module": "@jupyter-widgets/controls",
     "model_module_version": "1.5.0",
     "model_name": "HBoxModel",
     "state": {
      "_dom_classes": [],
      "_model_module": "@jupyter-widgets/controls",
      "_model_module_version": "1.5.0",
      "_model_name": "HBoxModel",
      "_view_count": null,
      "_view_module": "@jupyter-widgets/controls",
      "_view_module_version": "1.5.0",
      "_view_name": "HBoxView",
      "box_style": "",
      "children": [
       "IPY_MODEL_4969c4bc2cc748f5908cfe4c92eba1fc",
       "IPY_MODEL_b26a91ed144844b5984b59461cd69ec1",
       "IPY_MODEL_3f5aa46ebd1345389a9eb36d7c3f89b6"
      ],
      "layout": "IPY_MODEL_500748b3c83d45b080c33c8f5f8ce2ea"
     }
    },
    "e69afe57a14f4c4998f030e929496bda": {
     "model_module": "@jupyter-widgets/controls",
     "model_module_version": "1.5.0",
     "model_name": "DescriptionStyleModel",
     "state": {
      "_model_module": "@jupyter-widgets/controls",
      "_model_module_version": "1.5.0",
      "_model_name": "DescriptionStyleModel",
      "_view_count": null,
      "_view_module": "@jupyter-widgets/base",
      "_view_module_version": "1.2.0",
      "_view_name": "StyleView",
      "description_width": ""
     }
    },
    "e719cd78e2714bec8bf92eb39d816e01": {
     "model_module": "@jupyter-widgets/controls",
     "model_module_version": "1.5.0",
     "model_name": "DescriptionStyleModel",
     "state": {
      "_model_module": "@jupyter-widgets/controls",
      "_model_module_version": "1.5.0",
      "_model_name": "DescriptionStyleModel",
      "_view_count": null,
      "_view_module": "@jupyter-widgets/base",
      "_view_module_version": "1.2.0",
      "_view_name": "StyleView",
      "description_width": ""
     }
    },
    "eae79e1f995f4012a38f82f9e05d902d": {
     "model_module": "@jupyter-widgets/base",
     "model_module_version": "1.2.0",
     "model_name": "LayoutModel",
     "state": {
      "_model_module": "@jupyter-widgets/base",
      "_model_module_version": "1.2.0",
      "_model_name": "LayoutModel",
      "_view_count": null,
      "_view_module": "@jupyter-widgets/base",
      "_view_module_version": "1.2.0",
      "_view_name": "LayoutView",
      "align_content": null,
      "align_items": null,
      "align_self": null,
      "border": null,
      "bottom": null,
      "display": null,
      "flex": null,
      "flex_flow": null,
      "grid_area": null,
      "grid_auto_columns": null,
      "grid_auto_flow": null,
      "grid_auto_rows": null,
      "grid_column": null,
      "grid_gap": null,
      "grid_row": null,
      "grid_template_areas": null,
      "grid_template_columns": null,
      "grid_template_rows": null,
      "height": null,
      "justify_content": null,
      "justify_items": null,
      "left": null,
      "margin": null,
      "max_height": null,
      "max_width": null,
      "min_height": null,
      "min_width": null,
      "object_fit": null,
      "object_position": null,
      "order": null,
      "overflow": null,
      "overflow_x": null,
      "overflow_y": null,
      "padding": null,
      "right": null,
      "top": null,
      "visibility": null,
      "width": null
     }
    },
    "f20b4478c8fe4bbcbc71ae34a9e2f4cf": {
     "model_module": "@jupyter-widgets/base",
     "model_module_version": "1.2.0",
     "model_name": "LayoutModel",
     "state": {
      "_model_module": "@jupyter-widgets/base",
      "_model_module_version": "1.2.0",
      "_model_name": "LayoutModel",
      "_view_count": null,
      "_view_module": "@jupyter-widgets/base",
      "_view_module_version": "1.2.0",
      "_view_name": "LayoutView",
      "align_content": null,
      "align_items": null,
      "align_self": null,
      "border": null,
      "bottom": null,
      "display": null,
      "flex": null,
      "flex_flow": null,
      "grid_area": null,
      "grid_auto_columns": null,
      "grid_auto_flow": null,
      "grid_auto_rows": null,
      "grid_column": null,
      "grid_gap": null,
      "grid_row": null,
      "grid_template_areas": null,
      "grid_template_columns": null,
      "grid_template_rows": null,
      "height": null,
      "justify_content": null,
      "justify_items": null,
      "left": null,
      "margin": null,
      "max_height": null,
      "max_width": null,
      "min_height": null,
      "min_width": null,
      "object_fit": null,
      "object_position": null,
      "order": null,
      "overflow": null,
      "overflow_x": null,
      "overflow_y": null,
      "padding": null,
      "right": null,
      "top": null,
      "visibility": null,
      "width": null
     }
    },
    "f9bf963742744b69b493fa228375db97": {
     "model_module": "@jupyter-widgets/base",
     "model_module_version": "1.2.0",
     "model_name": "LayoutModel",
     "state": {
      "_model_module": "@jupyter-widgets/base",
      "_model_module_version": "1.2.0",
      "_model_name": "LayoutModel",
      "_view_count": null,
      "_view_module": "@jupyter-widgets/base",
      "_view_module_version": "1.2.0",
      "_view_name": "LayoutView",
      "align_content": null,
      "align_items": null,
      "align_self": null,
      "border": null,
      "bottom": null,
      "display": null,
      "flex": null,
      "flex_flow": null,
      "grid_area": null,
      "grid_auto_columns": null,
      "grid_auto_flow": null,
      "grid_auto_rows": null,
      "grid_column": null,
      "grid_gap": null,
      "grid_row": null,
      "grid_template_areas": null,
      "grid_template_columns": null,
      "grid_template_rows": null,
      "height": null,
      "justify_content": null,
      "justify_items": null,
      "left": null,
      "margin": null,
      "max_height": null,
      "max_width": null,
      "min_height": null,
      "min_width": null,
      "object_fit": null,
      "object_position": null,
      "order": null,
      "overflow": null,
      "overflow_x": null,
      "overflow_y": null,
      "padding": null,
      "right": null,
      "top": null,
      "visibility": null,
      "width": null
     }
    },
    "fdf9b587603c4e7ebd002fbbbb0448f8": {
     "model_module": "@jupyter-widgets/base",
     "model_module_version": "1.2.0",
     "model_name": "LayoutModel",
     "state": {
      "_model_module": "@jupyter-widgets/base",
      "_model_module_version": "1.2.0",
      "_model_name": "LayoutModel",
      "_view_count": null,
      "_view_module": "@jupyter-widgets/base",
      "_view_module_version": "1.2.0",
      "_view_name": "LayoutView",
      "align_content": null,
      "align_items": null,
      "align_self": null,
      "border": null,
      "bottom": null,
      "display": null,
      "flex": null,
      "flex_flow": null,
      "grid_area": null,
      "grid_auto_columns": null,
      "grid_auto_flow": null,
      "grid_auto_rows": null,
      "grid_column": null,
      "grid_gap": null,
      "grid_row": null,
      "grid_template_areas": null,
      "grid_template_columns": null,
      "grid_template_rows": null,
      "height": null,
      "justify_content": null,
      "justify_items": null,
      "left": null,
      "margin": null,
      "max_height": null,
      "max_width": null,
      "min_height": null,
      "min_width": null,
      "object_fit": null,
      "object_position": null,
      "order": null,
      "overflow": null,
      "overflow_x": null,
      "overflow_y": null,
      "padding": null,
      "right": null,
      "top": null,
      "visibility": null,
      "width": null
     }
    }
   }
  }
 },
 "nbformat": 4,
 "nbformat_minor": 1
}
